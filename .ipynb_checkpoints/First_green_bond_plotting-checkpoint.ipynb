{
 "cells": [
  {
   "cell_type": "code",
   "execution_count": null,
   "id": "05a90399",
   "metadata": {},
   "outputs": [
    {
     "name": "stdout",
     "output_type": "stream",
     "text": [
      "zsh:1: /usr/local/bin/pip: bad interpreter: /usr/local/opt/python/bin/python3.7: no such file or directory\r\n"
     ]
    }
   ],
   "source": [
    "#This is going to be the first plotting and regression for time series\n",
    "#The tutorial for this is located at https://mohammadimranhasan.com/linear-regression-of-time-series-data-with-pandas-library-in-python/\n",
    "#1) Importing packages to work with\n",
    "#First, import the package to handle the data Pandas stems from Panel Data \n",
    "#it has tools for time series manipulation\n",
    "!pip install pandas\n",
    "import pandas as pd\n",
    "#Second, import the package to numerical arrays this means less use of loops\n",
    "#in case they are needed by using vectors and less lines of code\n",
    "import numpy as np\n",
    "#Scipy is a package on top of numpy for more advanced mathematical modelling\n",
    "import scipy.stats as sp\n",
    "#now we need somenthing for graphs and plotting\n",
    "import matplotlib.pyplot as plt\n",
    "#now we need to import a package to manage directories\n",
    "import os\n",
    "print(os.getcwd())"
   ]
  },
  {
   "cell_type": "code",
   "execution_count": null,
   "id": "6898a393",
   "metadata": {},
   "outputs": [],
   "source": [
    "#2) Setting the directory and reading the data\n",
    "#first I declare a variable to call it called main_dir\n",
    "main_dir=\".\"\n",
    "os.chdir(main_dir)\n",
    "print(os.getcwd())\n",
    "#now we are going to read the data\n",
    "df=pd.read_excel('CHILEAN_BONDS_EXCEL.XLSX',sheet_name='Sheet1',skiprows=1)\n",
    "#I inserted a row before the data starts so that I know which bond belongs to which country\n",
    "#that is why I am skipping the first row with skiprow=1\n",
    "df.set_index('Date',inplace=True)\n",
    "#here the first column HAS TO BE CALLED \"Date\" and it is case sensitive\n",
    "#inplace: Makes the changes in the dataframe if True. "
   ]
  },
  {
   "cell_type": "code",
   "execution_count": null,
   "id": "6d7a7e95",
   "metadata": {},
   "outputs": [],
   "source": [
    "#3) Viewing the data\n",
    "print(df.head())\n",
    "print(type(df))"
   ]
  },
  {
   "cell_type": "code",
   "execution_count": null,
   "id": "13238c30",
   "metadata": {},
   "outputs": [],
   "source": [
    "print(df)"
   ]
  },
  {
   "cell_type": "code",
   "execution_count": null,
   "id": "24b8bf84",
   "metadata": {
    "scrolled": true
   },
   "outputs": [],
   "source": [
    "#plotting the data\n",
    "df.plot()\n"
   ]
  },
  {
   "cell_type": "code",
   "execution_count": null,
   "id": "fabc1042",
   "metadata": {},
   "outputs": [],
   "source": [
    "#plotting the green bond yield as a component of the dataframe\n",
    "df['CH_GREEN50_YLD_YTM_MID'].plot()"
   ]
  },
  {
   "cell_type": "code",
   "execution_count": null,
   "id": "7861286a",
   "metadata": {},
   "outputs": [],
   "source": [
    "df=pd.read_excel('CHILEAN_BONDS_EXCEL.XLSX',sheet_name='Sheet1',skiprows=1)\n",
    "#df[['CH_GREEN50_YLD_YTM_MID','CH_VANILLA47_YLD_YTM_MID','Bps_Chile']].plot()\n",
    "df.set_index('Date',inplace=True)\n",
    "df.CH_VANILLA47_YLD_YTM_MID.plot(grid=True, label=\"Vanilla\", legend=True, color='orange')\n",
    "df.CH_GREEN50_YLD_YTM_MID.plot(grid=True, label=\"Green\", legend=True,color='blue')\n",
    "df.Bps_Chile.plot(secondary_y=True, label=\"BPS difference\", title= \"Chile\", legend=True, color=\"gray\",ylabel='Yield',xlabel='Dates')"
   ]
  },
  {
   "cell_type": "code",
   "execution_count": null,
   "id": "63d2f5d1",
   "metadata": {},
   "outputs": [],
   "source": [
    "df=pd.read_excel('CHILEAN_BONDS_EXCEL.XLSX',sheet_name='Sheet1',skiprows=1)\n",
    "#df[['CH_GREEN50_YLD_YTM_MID','CH_VANILLA47_YLD_YTM_MID','Bps_Chile']].plot()\n",
    "df.set_index('Date',inplace=True)\n",
    "df.FR_VANILLA41_YLD_YTM_MID.plot(grid=True, label=\"Vanilla\", color='orange')\n",
    "df.FR_GREEN39_YLD_YTM_MID.plot(grid=True, label=\"Green\", color='blue')\n",
    "plt.legend(loc='best')\n",
    "df.Bps_France.plot(secondary_y=True, label=\"BPS difference\", title= \"France\", \n",
    "                   color=\"gray\",ylabel='Yield',xlabel='Dates')\n",
    "plt.legend(loc='best')"
   ]
  },
  {
   "cell_type": "code",
   "execution_count": null,
   "id": "474eb37d",
   "metadata": {},
   "outputs": [],
   "source": [
    "df=pd.read_excel('CHILEAN_BONDS_EXCEL.XLSX',sheet_name='Sheet1',skiprows=1)\n",
    "df.set_index('Date',inplace=True)\n",
    "df.BR_VANILLA23_YLD_YTM_MID.plot(grid=True, label=\"Vanilla\", color='orange',legend=True)\n",
    "df.BR_GREEN24_YLD_YTM_MID.plot(grid=True, label=\"Green\", legend=True,color='blue')\n",
    "#plt.legend(loc='best')\n",
    "df.Bps_Brazil.plot(secondary_y=True, label=\"BPS difference\", title= \"Brazil BNDES\",legend=True, \n",
    "                   color=\"gray\",ylabel='Yield',xlabel='Dates')\n",
    "#plt.legend(loc='best')"
   ]
  },
  {
   "cell_type": "code",
   "execution_count": null,
   "id": "6df9e4df",
   "metadata": {},
   "outputs": [],
   "source": [
    "df=pd.read_excel('CHILEAN_BONDS_EXCEL.XLSX',sheet_name='Sheet1',skiprows=1)\n",
    "df.set_index('Date',inplace=True)\n",
    "df.NG_VANILLA23_YLD_YTM_MID.plot(grid=True, label=\"Vanilla\", color='orange')\n",
    "df.NG_GREEN22_YLD_YTM_MID.plot(grid=True, label=\"Green\", color='blue')\n",
    "plt.legend(loc='best')\n",
    "df.Bps_Nigeria.plot(secondary_y=True, label=\"BPS difference\", title= \"Nigeria\", \n",
    "                   color=\"gray\",ylabel='Yield',xlabel='Dates')\n",
    "plt.legend(loc='lower right')"
   ]
  },
  {
   "cell_type": "code",
   "execution_count": null,
   "id": "7ea21983",
   "metadata": {},
   "outputs": [],
   "source": [
    "#plotting two data time series as a part of the dataframe and assigning titles and labels\n",
    "df[['CH_VANILLA47_YLD_YTM_MID','CH_GREEN50_YLD_YTM_MID']].plot(title='Yield to maturity',ylabel='Basis points',xlabel='Dates',label='yields',color=['orange','blue'])\n"
   ]
  },
  {
   "cell_type": "code",
   "execution_count": null,
   "id": "99cd38ea",
   "metadata": {},
   "outputs": [],
   "source": [
    "#dframe = df.set_index(pd.to_datetime(df.Date), drop=True)\n",
    "#df.CH_VANILLA47_YLD_YTM_MID.plot(grid=True, label=\"bitcoin\", legend=True)\n",
    "#df.CH_GREEN50_YLD_YTM_MID.plot(secondary_y=True, label=\"tether\", legend=True)"
   ]
  },
  {
   "cell_type": "code",
   "execution_count": null,
   "id": "2f04990b",
   "metadata": {},
   "outputs": [],
   "source": [
    "print(df.head())"
   ]
  },
  {
   "cell_type": "code",
   "execution_count": null,
   "id": "b31b8238",
   "metadata": {},
   "outputs": [],
   "source": [
    "import plotly.express as px\n",
    "nuevdf=pd.read_excel('CHILEAN_BONDS_EXCEL.XLSX',sheet_name='Sheet1',skiprows=1)"
   ]
  },
  {
   "cell_type": "code",
   "execution_count": null,
   "id": "5ae43522",
   "metadata": {},
   "outputs": [],
   "source": [
    "fig = px.line(nuevdf, x='Date',y='CH_GREEN50_YLD_YTM_MID')\n",
    "fig.show()"
   ]
  },
  {
   "cell_type": "code",
   "execution_count": null,
   "id": "7707ff09",
   "metadata": {},
   "outputs": [],
   "source": [
    "    #first I need to import plotly and assign an alias\n",
    "    #then I also need pandas to read the file\n",
    "import plotly.express as px\n",
    "import pandas as pd\n",
    "df2 = pd.read_excel('CHILEAN_BONDS_EXCEL.XLSX',sheet_name='Sheet1',skiprows=1)\n",
    "fig = px.line(df2, x='Date',y='CH_GREEN50_YLD_YTM_MID', title='Time Series with Rangeslider')\n",
    "#could be: fig = px.line(df, x='Date', y='CH_GREEN50_YLD_YTM_MID', range_x=['2016-07-01','2016-12-31'])\n",
    "fig.update_xaxes(rangeslider_visible=True)\n",
    "fig.show()\n",
    "    #this is another example from a differen source file from the web\n",
    "    #import plotly.express as px\n",
    "    #import pandas as pd\n",
    "    #df = pd.read_csv('https://raw.githubusercontent.com/plotly/datasets/master/finance-charts-apple.csv')\n",
    "    #fig = px.line(df, x='Date', y='AAPL.High', title='Time Series with Rangeslider')\n",
    "    #fig.update_xaxes(rangeslider_visible=True)\n",
    "    #fig.show()\n",
    "    #print(df)\n",
    "\n",
    "#this is an example of multiple graphs from a differen source file from the web\n",
    "#it uses a package called plotly graphs\n",
    "#import plotly.graph_objs as go\n",
    "#import plotly.express as px\n",
    "#import pandas as pd\n",
    "# Data\n",
    "#gapminder = px.data.gapminder()\n",
    "# Most productive european countries (as of 2007)\n",
    "#df_eur = gapminder[gapminder['continent']=='Europe']\n",
    "#df_eur_2007 = df_eur[df_eur['year']==2007]\n",
    "#eur_gdp_top5=df_eur_2007.nlargest(5, 'gdpPercap')['country'].tolist()\n",
    "#df_eur_gdp_top5 = df_eur[df_eur['country'].isin(eur_gdp_top5)]\n",
    "\n",
    "# Most productive countries on the american continent (as of 2007)\n",
    "#df_ame = gapminder[gapminder['continent']=='Americas']\n",
    "#df_ame_2007 = df_ame[df_ame['year']==2007]\n",
    "#df_ame_top5=df_ame_2007.nlargest(5, 'gdpPercap')['country'].tolist()\n",
    "#df_ame_gdp_top5 = df_ame[df_ame['country'].isin(df_ame_top5)]\n",
    "\n",
    "# Plotly figure 1\n",
    "#fig = px.line(df_eur_gdp_top5, x='year', y='gdpPercap',\n",
    "              #color=\"country\",\n",
    "              #line_group=\"country\", hover_name=\"country\")\n",
    "#fig.update_layout(title='Productivity, Europe' , showlegend=False)\n",
    "\n",
    "\n",
    "# Plotly figure 2\n",
    "#fig2 = go.Figure(fig.add_traces(\n",
    "                 #data=px.line(df_ame_gdp_top5, x='year', y='gdpPercap',\n",
    "                              #color=\"country\",\n",
    "                              #line_group=\"country\", line_dash='country', hover_name=\"country\")._data))\n",
    "#fig2.update_layout(title='Productivity, Europe and America', showlegend=False)\n",
    "\n",
    "#fig.show()\n",
    "#fig2.show()\n",
    "#print(df_eur)\n",
    "#print(df_eur_gdp_top5)"
   ]
  },
  {
   "cell_type": "code",
   "execution_count": null,
   "id": "5f9dd4a6",
   "metadata": {},
   "outputs": [],
   "source": [
    "#Chilean graphs"
   ]
  },
  {
   "cell_type": "code",
   "execution_count": null,
   "id": "faf56591",
   "metadata": {},
   "outputs": [],
   "source": [
    "import plotly.express as px\n",
    "import pandas as pd\n",
    "import plotly.graph_objs as go\n",
    "               \n",
    "df2 = pd.read_excel('CHILEAN_BONDS_EXCEL.XLSX', sheet_name='Sheet1', skiprows=1)\n",
    "fig = px.line(df2, x='Date',y=['CH_GREEN50_YLD_YTM_MID','CH_VANILLA47_YLD_YTM_MID'], title='Chilean Bond Yields',\n",
    "              labels={\"value\":\"Yield\", \"variable\":\"Bonds\"}, range_y=[2.6,3.6],range_x=[\"2019-06-19\",\"2019-12-15\"])\n",
    "fig.update_xaxes(rangeslider_visible=True)\n",
    "newnames = {'CH_GREEN50_YLD_YTM_MID':'Green Bond 2050', 'CH_VANILLA47_YLD_YTM_MID': 'Vanilla Bond 2047'}\n",
    "fig.for_each_trace(lambda t: t.update(name = newnames[t.name],\n",
    "                                      legendgroup = newnames[t.name],\n",
    "                                      hovertemplate = t.hovertemplate.replace(t.name, newnames[t.name])\n",
    "                                    )\n",
    "                 )\n",
    "\n",
    "#fig.xlim([-10,0]) and plt.ylim([-10,0])\n",
    "fig.update_layout(title = {'text': \"Chile\",'y':0.9,'x':0.5,'xanchor': 'center','yanchor': 'top'})\n",
    "fig.show()\n"
   ]
  },
  {
   "cell_type": "code",
   "execution_count": null,
   "id": "ac7f7cd2",
   "metadata": {},
   "outputs": [],
   "source": [
    "#NIGERIAN GRAPHS"
   ]
  },
  {
   "cell_type": "code",
   "execution_count": null,
   "id": "655b56be",
   "metadata": {},
   "outputs": [],
   "source": [
    "import plotly.express as px\n",
    "import pandas as pd\n",
    "import plotly.graph_objs as go\n",
    "               \n",
    "df2 = pd.read_excel('CHILEAN_BONDS_EXCEL.XLSX', sheet_name='Sheet1', skiprows=1)\n",
    "fig = px.line(df2, x='Date',y=['NG_GREEN22_YLD_YTM_MID','NG_VANILLA23_YLD_YTM_MID'], title='Nigerian Bond Yields',\n",
    "              labels={\"value\":\"Yield\", \"variable\":\"Bonds\"}, range_y=[9.9,15],range_x=[\"2019-06-19\",\"2019-12-15\"])\n",
    "#fig.update_xaxes(rangeslider_visible=True)\n",
    "newnames = {'NG_GREEN22_YLD_YTM_MID':'Green Bond 2022', 'NG_VANILLA23_YLD_YTM_MID': 'Vanilla Bond 2023'}\n",
    "fig.for_each_trace(lambda t: t.update(name = newnames[t.name],\n",
    "                                      legendgroup = newnames[t.name],\n",
    "                                      hovertemplate = t.hovertemplate.replace(t.name, newnames[t.name])\n",
    "                                    )\n",
    "                 )\n",
    "\n",
    "#fig.xlim([-10,0]) and plt.ylim([-10,0])\n",
    "fig.update_layout(title = {'text': \"Nigeria\",'y':0.9,'x':0.5,'xanchor': 'center','yanchor': 'top'})\n",
    "fig.show()\n"
   ]
  },
  {
   "cell_type": "code",
   "execution_count": null,
   "id": "8dca16ea",
   "metadata": {},
   "outputs": [],
   "source": [
    "#French graphs"
   ]
  },
  {
   "cell_type": "code",
   "execution_count": null,
   "id": "fe1088bc",
   "metadata": {},
   "outputs": [],
   "source": [
    "import plotly.express as px\n",
    "import pandas as pd\n",
    "import plotly.graph_objs as go\n",
    "               \n",
    "df2 = pd.read_excel('CHILEAN_BONDS_EXCEL.XLSX', sheet_name='Sheet1', skiprows=1)\n",
    "fig = px.line(df2, x='Date',y=['FR_GREEN39_YLD_YTM_MID','FR_VANILLA41_YLD_YTM_MID'], title='French Bond Yields',\n",
    "              labels={\"value\":\"Yield\", \"variable\":\"Bonds\"}, range_y=[0,.7],range_x=[\"2019-06-19\",\"2019-12-15\"])\n",
    "#fig.update_xaxes(rangeslider_visible=True)\n",
    "newnames = {'FR_GREEN39_YLD_YTM_MID':'Green Bond 2039', 'FR_VANILLA41_YLD_YTM_MID': 'Vanilla Bond 2041'}\n",
    "fig.for_each_trace(lambda t: t.update(name = newnames[t.name],\n",
    "                                      legendgroup = newnames[t.name],\n",
    "                                      hovertemplate = t.hovertemplate.replace(t.name, newnames[t.name])\n",
    "                                    )\n",
    "                 )\n",
    "\n",
    "#fig.xlim([-10,0]) and plt.ylim([-10,0])\n",
    "fig.update_layout(title = {'text': \"France\",'y':0.9,'x':0.5,'xanchor': 'center','yanchor': 'top'})\n",
    "fig.show()"
   ]
  },
  {
   "cell_type": "code",
   "execution_count": null,
   "id": "1d6958b7",
   "metadata": {},
   "outputs": [],
   "source": [
    "#Brazilian graphs"
   ]
  },
  {
   "cell_type": "code",
   "execution_count": null,
   "id": "6590a07c",
   "metadata": {
    "scrolled": true
   },
   "outputs": [],
   "source": [
    "import plotly.express as px\n",
    "import pandas as pd\n",
    "import plotly.graph_objs as go\n",
    "               \n",
    "df2 = pd.read_excel('CHILEAN_BONDS_EXCEL.XLSX', sheet_name='Sheet1',skiprows=1)\n",
    "fig = px.line(df2, x='Date',y=['BR_GREEN24_YLD_YTM_MID','BR_VANILLA23_YLD_YTM_MID'], title='Brazilian Bond Yields',\n",
    "              labels={\"value\":\"Yield\", \"variable\":\"Bonds\"}, range_y=[2.8,3.8],range_x=[\"2019-06-19\",\"2019-12-15\"])\n",
    "#fig.update_xaxes(rangeslider_visible=True)\n",
    "newnames = {'BR_GREEN24_YLD_YTM_MID':'Green Bond 2024', 'BR_VANILLA23_YLD_YTM_MID': 'Vanilla Bond 2023'}\n",
    "fig.for_each_trace(lambda t: t.update(name = newnames[t.name],\n",
    "                                      legendgroup = newnames[t.name],\n",
    "                                      hovertemplate = t.hovertemplate.replace(t.name, newnames[t.name])\n",
    "                                    )\n",
    "                 )\n",
    "\n",
    "#fig.xlim([-10,0]) and plt.ylim([-10,0])\n",
    "fig.update_layout(title = {'text': \"Nigeria\",'y':0.9,'x':0.5,'xanchor': 'center','yanchor': 'top'})\n",
    "fig.show()"
   ]
  },
  {
   "cell_type": "code",
   "execution_count": null,
   "id": "950d1ec7",
   "metadata": {},
   "outputs": [],
   "source": [
    "#Mean equality testing"
   ]
  },
  {
   "cell_type": "code",
   "execution_count": null,
   "id": "4e702b13",
   "metadata": {},
   "outputs": [],
   "source": [
    "# Example of the Student's t-test\n",
    "#I am going to have to use a different file because the dates in the Chilean bonds one are not the same as\n",
    "#in the original paper Analysis in E-views\n",
    "df10=pd.read_excel('FRANCE_BOND_SERIES.xlsx',sheet_name='Sheet1')\n",
    "df10.set_index('Date',inplace=True)\n",
    "import numpy as np\n",
    "from scipy.stats import ttest_ind\n",
    "data1=df10['FR_Green2039']\n",
    "data2=df10['FR_VA_2041']\n",
    "print(data1.mean())\n",
    "print(data2.mean())\n",
    "stat, p = ttest_ind(data1, data2)\n",
    "print('stat=%.3f, p=%.3f' % (stat, p))\n",
    "if p > 0.05:\n",
    "\tprint('Probably the same distribution')\n",
    "else:\n",
    "\tprint('Probably different distributions')\n",
    "statsSatterhwaite_Welch,probSW=ttest_ind(data1, data2, equal_var=False)\n",
    "print('statsSatterhwaite_Welch=%.3f, probSW=%.3f' % (stat, p))\n",
    "if p > 0.05:\n",
    "\tprint('Probably the same distribution')\n",
    "else:\n",
    "\tprint('Probably different distributions')\n",
    "#print(df2[['Date','FR_GREEN39_YLD_YTM_MID']])\n",
    "#selection = df2.loc[2:100,['Date','FR_GREEN39_YLD_YTM_MID']]\n",
    "#print(selection)\n",
    "#print(df2['FR_GREEN39_YLD_YTM_MID']) if (df2['Date']>10)"
   ]
  },
  {
   "cell_type": "code",
   "execution_count": null,
   "id": "d875d991",
   "metadata": {},
   "outputs": [],
   "source": [
    "#Conducting an augmented dickey-fuller test\n",
    "from statsmodels.tsa.stattools import adfuller\n",
    "adfuller(data1)\n",
    "#Source https://www.statology.org/dickey-fuller-test-python/"
   ]
  },
  {
   "cell_type": "code",
   "execution_count": null,
   "id": "917d1779",
   "metadata": {},
   "outputs": [],
   "source": [
    "#Conducting a granger causality test\n",
    "from statsmodels.tsa.stattools import grangercausalitytests\n",
    "\n",
    "#perform Granger-Causality test\n",
    "grangercausalitytests(df10[['FR_Green2039','FR_VA_2041']], maxlag=[7])\n",
    "grangercausalitytests(df10[['FR_VA_2041','FR_Green2039']], maxlag=[7])\n",
    "#Source https://www.statology.org/granger-causality-test-in-python/"
   ]
  },
  {
   "cell_type": "code",
   "execution_count": null,
   "id": "b854e278",
   "metadata": {},
   "outputs": [],
   "source": [
    "from statsmodels.regression.rolling import RollingOLS\n",
    "#add constant column to regress with intercept\n",
    "df11['const'] = 1\n",
    "x = df11[['FR_VA_2041','t']]\n",
    "y = df11['FR_Green2039']\n",
    "#fit\n",
    "model = RollingOLS(endog =df11['FR_Green2039'].values , exog=df11[['const','FR_VA_2041','t']],window=30)\n",
    "rres = model.fit()\n",
    "#rres.params.tail(20) #look at last few intercept and coef\n",
    "print(rres)\n",
    "\n",
    "params = rres.params.copy()\n",
    "params.index = np.arange(1, params.shape[0] + 1)\n",
    "params.head()\n",
    "\n",
    "params.iloc[31:260]\n",
    "fig = rres.plot_recursive_coefficient(variables=[\"FR_VA_2041\"], figsize=(14, 6))\n",
    "fig = rres.plot_recursive_coefficient(variables=[\"const\"], figsize=(14, 6))"
   ]
  },
  {
   "cell_type": "code",
   "execution_count": null,
   "id": "dcca39e7",
   "metadata": {},
   "outputs": [],
   "source": [
    "#Simple regression and rolling coefficients across time for Green Bond Yields \n",
    "#I am importing statsmodels to run a univariate regression with its commands\n",
    "df11=pd.read_excel('FRANCE_BOND_SERIES.xlsx',sheet_name='Sheet1')\n",
    "df11.set_index('Date',inplace=True)\n",
    "import statsmodels.api as sm\n",
    "x = df11[['FR_VA_2041','t']]\n",
    "y = df11['FR_Green2039']\n",
    "#Now these are the variables \n",
    "#it is necessary to add the intercept\n",
    "x = sm.add_constant(x)\n",
    "result1 = sm.OLS(y, x).fit()\n",
    "print(result1.summary())"
   ]
  },
  {
   "cell_type": "code",
   "execution_count": null,
   "id": "f26ce4a9",
   "metadata": {},
   "outputs": [],
   "source": [
    "#rolling coefs\n",
    "from sklearn.linear_model import LinearRegression\n",
    "#lr = LinearRegression().fit(x, y)\n",
    "print(f'intercept = {lr.intercept_:.5f}, slope = {lr.coef_[0]:.3f}')"
   ]
  },
  {
   "cell_type": "code",
   "execution_count": null,
   "id": "a9cbc83c",
   "metadata": {},
   "outputs": [],
   "source": [
    "from sklearn.linear_model import LinearRegression\n",
    "z = df11['FR_Green2039']\n",
    "w=30\n",
    "slopes = []\n",
    "intercepts = []\n",
    "for i in range(len(data1) - w):\n",
    "    X = x.loc[i:i+w, [['FR_VA_2041','t']]\n",
    "    #z = z.loc[i:i+w, 'FR_Green2039']\n",
    "    #lr = LinearRegression().fit(x, z)\n",
    "    #intercepts.append(lr.intercept_)\n",
    "    #slopes.append(lr.coef_[0])"
   ]
  },
  {
   "cell_type": "code",
   "execution_count": null,
   "id": "d18b7a61",
   "metadata": {},
   "outputs": [],
   "source": [
    "import plotly.express as px\n",
    "import pandas as pd\n",
    "import plotly.graph_objs as go\n",
    "               \n",
    "df2 = pd.read_excel('CHILEAN_BONDS_EXCEL.XLSX', sheet_name='Sheet1', skiprows=1)\n",
    "fig = px.line(df2, x='Date',y=['CH_GREEN50_YLD_YTM_MID','CH_VANILLA47_YLD_YTM_MID'], title='Chilean Bond Yields', labels={\"value\":\"Yield\", \"variable\":\"Bonds\"})\n",
    "fig.update_xaxes(rangeslider_visible=True)\n",
    "newnames = {'CH_GREEN50_YLD_YTM_MID':'Green Bond 2050', 'CH_VANILLA47_YLD_YTM_MID': 'Vanilla 2047'}\n",
    "fig.for_each_trace(lambda t: t.update(name = newnames[t.name],\n",
    "                                      legendgroup = newnames[t.name],\n",
    "                                      hovertemplate = t.hovertemplate.replace(t.name, newnames[t.name])\n",
    "                                     )\n",
    "                  )\n",
    "fig.update_layout(title = {'text': \"Chile\",'y':0.9,'x':0.5,'xanchor': 'center','yanchor': 'top'})\n",
    "fig.show()\n"
   ]
  },
  {
   "cell_type": "code",
   "execution_count": null,
   "id": "290fb3f5",
   "metadata": {},
   "outputs": [],
   "source": [
    "df2.head()"
   ]
  },
  {
   "cell_type": "code",
   "execution_count": null,
   "id": "f7c6d932",
   "metadata": {},
   "outputs": [],
   "source": [
    "#https://stackoverflow.com/questions/59762321/how-do-i-add-and-define-multiple-lines-in-a-plotly-time-series-chart\n",
    "#https://plotly.com/python/time-series/\n",
    "#https://towardsdatascience.com/basic-time-series-manipulation-with-pandas-4432afee64ea\n",
    "#https://www.geeksforgeeks.org/python-pandas-dataframe-set_index/\n",
    "#https://mohammadimranhasan.com/linear-regression-of-time-series-data-with-pandas-library-in-python/\n",
    "#https://stackoverflow.com/questions/64371174/plotly-how-to-change-variable-label-names-for-the-legend-in-a-plotly-express-li"
   ]
  },
  {
   "cell_type": "code",
   "execution_count": null,
   "id": "da3b9106",
   "metadata": {},
   "outputs": [],
   "source": [
    "#I am importing statsmodels to run a univariate regression with its commands\n",
    "import statsmodels.api as sm\n",
    "x = df2['FR_VANILLA41_YLD_YTM_MID'].tolist()\n",
    "y = df2['FR_GREEN39_YLD_YTM_MID'].tolist()\n",
    "#Now these are the variables \n",
    "#it is necessary to add the intercept\n",
    "x = sm.add_constant(x)\n",
    "result1 = sm.OLS(y, x).fit()\n",
    "print(result1.summary())"
   ]
  },
  {
   "cell_type": "code",
   "execution_count": null,
   "id": "f420415b",
   "metadata": {
    "scrolled": true
   },
   "outputs": [],
   "source": [
    "#now I am going to run a multivariate regression \n",
    "import statsmodels.api as sm\n",
    "x = df2[['FR_VANILLA41_YLD_YTM_MID','CH_VANILLA47_YLD_YTM_MID']]\n",
    "print(type(x))\n",
    "#here the dataframe has the \"features\" or independent variables in '' and uses two square brakets\n",
    "y = df2['FR_GREEN39_YLD_YTM_MID']\n",
    "x = sm.add_constant(x)\n",
    "#this command adds the intercept\n",
    "result2 = sm.OLS(y, x).fit()\n",
    "print(result2.summary())"
   ]
  },
  {
   "cell_type": "code",
   "execution_count": null,
   "id": "40236334",
   "metadata": {},
   "outputs": [],
   "source": [
    "#now I am going to run a multivariate regression \n",
    "import statsmodels.api as sm\n",
    "x = df2[['FR_VANILLA41_YLD_YTM_MID','CH_VANILLA47_YLD_YTM_MID']]\n",
    "print(type(x))\n",
    "#here the dataframe has the \"features\" or independent variables in '' and uses two square brakets\n",
    "y = df2['FR_GREEN39_YLD_YTM_MID']\n",
    "x = sm.add_constant(x)\n",
    "print(type(y))\n",
    "#this command adds the intercept\n",
    "result2 = sm.OLS(y, x).fit()\n",
    "print(result2.summary())"
   ]
  },
  {
   "cell_type": "code",
   "execution_count": null,
   "id": "2bd6eabd",
   "metadata": {},
   "outputs": [],
   "source": [
    "#now I am going to run a multivariate regression \n",
    "import statsmodels.api as sm\n",
    "x = df2[['FR_VANILLA41_YLD_YTM_MID','CH_VANILLA47_YLD_YTM_MID']]\n",
    "print(type(x))\n",
    "#here the dataframe has the \"features\" or independent variables in '' and uses two square brakets\n",
    "y = df2['FR_GREEN39_YLD_YTM_MID']\n",
    "x = sm.add_constant(x)\n",
    "#this command adds the intercept\n",
    "result2 = sm.OLS(y, x).fit()\n",
    "print(result2.summary())"
   ]
  },
  {
   "cell_type": "code",
   "execution_count": null,
   "id": "47f10dfb",
   "metadata": {},
   "outputs": [],
   "source": [
    "#now I am going to add a deterministic trend variable\n",
    "import statsmodels.api as sm\n",
    "#t=[i+1 for i in range(0,368)]\n",
    "trend=list(range(1,368))\n",
    "print(type(trend)\n",
    "\n",
    "x2.append((trend),ignore_index=False)\n",
    "print(type(x2))\n",
    "x2.head()\n",
    "print(x2)\n",
    "#x2.insert(loc=1, column='Top Player Countries', value=trend, allow_duplicates=True)\n",
    "#x2.head()\n",
    "#x2=np.append(x,trend)\n",
    "#print(type(x2))\n",
    "#print(x2)\n",
    "#print(x)\n",
    "#print(result.summary())\n",
    "#x3 = df2[['FR_VANILLA41_YLD_YTM_MID','CH_VANILLA47_YLD_YTM_MID']]\n",
    "#print(type(x3))\n",
    "\n",
    "#here the dataframe has the \"features\" or independent variables in '' and uses two square brakets\n",
    "#y = df2['FR_GREEN39_YLD_YTM_MID']\n",
    "#x = sm.add_constant(x)\n",
    "#this command adds the intercept\n",
    "#result2 = sm.OLS(y, x).fit()\n",
    "#print(result2.summary())"
   ]
  },
  {
   "cell_type": "code",
   "execution_count": null,
   "id": "3f9a6b19",
   "metadata": {},
   "outputs": [],
   "source": [
    "#running the regression with Scikitlearn\n",
    "#first I have to import the linear regression package\n",
    "from sklearn.linear_model import LinearRegression\n",
    "#next, I declare the variables\n",
    "x = 'CH_GREEN50_YLD_YTM_MID'\n",
    "y = 'CH_VANILLA47_YLD_YTM_MID'\n",
    "data, target=df2[[x]],df2[y]\n",
    "lr = LinearRegression() \n",
    "lr.fit(data,target)\n",
    "\n",
    "\n",
    "#now I am going to generate the variable trend which is a deterministic trend\n",
    "#t=[x+1 for x in range(0,368)]\n",
    "#trend=list(range(1,368))\n",
    "#print(type(x))\n",
    "#x2=np.append(x,trend)\n",
    "#print(type(x2))\n",
    "#print(x2)\n",
    "#print(x)\n",
    "#result = sm.OLS(y, x).fit()\n",
    "#print(result.summary())\n",
    "\n"
   ]
  },
  {
   "cell_type": "code",
   "execution_count": null,
   "id": "cf053f38",
   "metadata": {},
   "outputs": [],
   "source": [
    "#running the regression with Scikitlearn\n",
    "#first I have to import the linear regression package\n",
    "from sklearn import linear_model\n",
    "#next, I declare the variables\n",
    "X = df[['FR_VANILLA41_YLD_YTM_MID','CH_GREEN50_YLD_YTM_MID','CH_VANILLA47_YLD_YTM_MID']]\n",
    "Y=df['FR_GREEN39_YLD_YTM_MID']\n",
    "#data, target=df2[[x]],df2[y]\n",
    "regr = linear_model.LinearRegression()\n",
    "regr.fit(X, Y)\n",
    "print(regr.coef_)\n"
   ]
  },
  {
   "cell_type": "code",
   "execution_count": null,
   "id": "edb9bd21",
   "metadata": {},
   "outputs": [],
   "source": [
    "print(type(x))"
   ]
  },
  {
   "cell_type": "code",
   "execution_count": null,
   "id": "e3133ca7",
   "metadata": {},
   "outputs": [],
   "source": [
    "print(df2.describe())\n",
    "print(df2.info())"
   ]
  },
  {
   "cell_type": "code",
   "execution_count": null,
   "id": "70aaacc0",
   "metadata": {},
   "outputs": [],
   "source": [
    "print(type(x2))\n",
    "print(type(trend))\n",
    "dftrend=pd.DataFrame(trend)\n",
    "dfcmplto=x2.append(pd.DataFrame(trend)"
   ]
  },
  {
   "cell_type": "code",
   "execution_count": null,
   "id": "eef50962",
   "metadata": {},
   "outputs": [],
   "source": [
    "x2.append(trend)\n",
    "print (trend)"
   ]
  },
  {
   "cell_type": "code",
   "execution_count": null,
   "id": "b9d094b7",
   "metadata": {},
   "outputs": [],
   "source": []
  },
  {
   "cell_type": "code",
   "execution_count": null,
   "id": "7fd27198",
   "metadata": {},
   "outputs": [],
   "source": []
  },
  {
   "cell_type": "code",
   "execution_count": null,
   "id": "ab52935f",
   "metadata": {},
   "outputs": [],
   "source": []
  }
 ],
 "metadata": {
  "kernelspec": {
   "display_name": "Python 3.7.7 64-bit",
   "language": "python",
   "name": "python37764bit36c115f3617f4c98aab5ff33f96ab66e"
  },
  "language_info": {
   "codemirror_mode": {
    "name": "ipython",
    "version": 3
   },
   "file_extension": ".py",
   "mimetype": "text/x-python",
   "name": "python",
   "nbconvert_exporter": "python",
   "pygments_lexer": "ipython3",
   "version": "3.9.12"
  },
  "vscode": {
   "interpreter": {
    "hash": "72a54507c57773fba5c1686a2292f2bd2763aeefce3ac94cbf76a042e37e12be"
   }
  }
 },
 "nbformat": 4,
 "nbformat_minor": 5
}
